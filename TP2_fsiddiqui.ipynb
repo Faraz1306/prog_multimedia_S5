{
  "cells": [
    {
      "cell_type": "markdown",
      "metadata": {
        "id": "view-in-github",
        "colab_type": "text"
      },
      "source": [
        "<a href=\"https://colab.research.google.com/github/Faraz1306/prog_multimedia_S5/blob/tp2/TP2_fsiddiqui.ipynb\" target=\"_parent\"><img src=\"https://colab.research.google.com/assets/colab-badge.svg\" alt=\"Open In Colab\"/></a>"
      ]
    },
    {
      "cell_type": "markdown",
      "metadata": {
        "id": "n1oRLhdntBY3"
      },
      "source": [
        "\n",
        "\n",
        "<h1> Exercice 1 : Algorithme RLE </h1>\n",
        "<h2> <b> Question 1 : </b> </h2>\n",
        "\n",
        "Écrivez une fonction qui compresse des chaînes de caractères en\n",
        "utilisant l'algorithme RLE sans traduire en binaire le résultats de la\n",
        "compression.\n"
      ]
    },
    {
      "cell_type": "code",
      "source": [
        "def rle_compression(chaine):\n",
        "    # Initialiser une chaîne vide pour le résultat\n",
        "    resultat = \"\"\n",
        "    # Initialiser le premier caractère de la chaîne à compresser\n",
        "    compteur = 1\n",
        "\n",
        "    # Parcourir la chaîne de caractères en ignorant le dernier caractère\n",
        "    for i in range(1, len(chaine)):\n",
        "        # Si le caractère actuel est égal au précédent, on incrémente le compteur\n",
        "        if chaine[i] == chaine[i-1]:\n",
        "            compteur += 1\n",
        "        else:\n",
        "            # Sinon, on ajoute le caractère et le compteur au résultat, et on réinitialise le compteur\n",
        "            resultat += str(compteur) + chaine[i-1]\n",
        "            compteur = 1\n",
        "\n",
        "    # Ajouter la dernière séquence restante\n",
        "    resultat += str(compteur) + chaine[-1]\n",
        "\n",
        "    return resultat\n",
        "\n",
        "# Exemple d'utilisation\n",
        "chaine = \"Faraz\"\n",
        "compression = rle_compression(chaine)\n",
        "print(\"Chaîne compressée :\", compression)\n"
      ],
      "metadata": {
        "colab": {
          "base_uri": "https://localhost:8080/"
        },
        "id": "20G1gTNxcCQ1",
        "outputId": "b41de542-555b-4c9c-eb8a-125e71ebfadf"
      },
      "execution_count": 16,
      "outputs": [
        {
          "output_type": "stream",
          "name": "stdout",
          "text": [
            "Chaîne compressée : 1F1a1r1a1z\n"
          ]
        }
      ]
    },
    {
      "cell_type": "markdown",
      "metadata": {
        "id": "Scqd47RkubVP"
      },
      "source": [
        " <h2> <b> Question 2 : </b> </h2>\n",
        "\n",
        "Écrivez une méthode qui décompresse les données RLE compressées\n",
        "pour restaurer la chaîne d'origine.\n"
      ]
    },
    {
      "cell_type": "code",
      "source": [
        "def rle_decompression(chaine_compressee):\n",
        "    # Initialiser une chaîne vide pour le résultat\n",
        "    resultat = \"\"\n",
        "    # Initialiser une variable pour stocker le nombre de répétitions\n",
        "    compteur = \"\"\n",
        "\n",
        "    # Parcourir la chaîne compressée caractère par caractère\n",
        "    for caractere in chaine_compressee:\n",
        "        # Si le caractère est un chiffre, on le concatène au compteur\n",
        "        if caractere.isdigit():\n",
        "            compteur += caractere\n",
        "        else:\n",
        "            # Si c'est une lettre, on multiplie la lettre par le compteur et on ajoute au résultat\n",
        "            resultat += caractere * int(compteur)\n",
        "            # Réinitialiser le compteur\n",
        "            compteur = \"\"\n",
        "\n",
        "    return resultat\n",
        "\n",
        "# Exemple d'utilisation\n",
        "chaine_compressee = \"1F1a1r1a1z\"\n",
        "decompression = rle_decompression(chaine_compressee)\n",
        "print(\"Chaîne décompressée :\", decompression)\n",
        "\n",
        "\n",
        "print(\"source: chatgpt\")"
      ],
      "metadata": {
        "colab": {
          "base_uri": "https://localhost:8080/"
        },
        "id": "kV7JsPgfdTqW",
        "outputId": "7cd4bfe9-efe5-404c-ada1-40b9fdf4173e"
      },
      "execution_count": 17,
      "outputs": [
        {
          "output_type": "stream",
          "name": "stdout",
          "text": [
            "Chaîne décompressée : Faraz\n",
            "source: chatgpt\n"
          ]
        }
      ]
    },
    {
      "cell_type": "markdown",
      "metadata": {
        "id": "tAGglFnV1GYp"
      },
      "source": [
        " <h2> <b> Question 3 : </b> </h2>\n",
        "\n",
        "Développez une variante de l'algorithme qui permet la compression\n",
        "et la décompression de données jusqu'au format binaires en suivant\n",
        "les principes de l'algorithme RLE.\n"
      ]
    },
    {
      "cell_type": "code",
      "source": [
        "def rle_compression_binaire(chaine):\n",
        "    # Initialiser une chaîne vide pour le résultat\n",
        "    resultat = \"\"\n",
        "    # Initialiser le premier caractère de la chaîne à compresser\n",
        "    compteur = 1\n",
        "\n",
        "    # Parcourir la chaîne de caractères en ignorant le dernier caractère\n",
        "    for i in range(1, len(chaine)):\n",
        "        # Si le caractère actuel est égal au précédent, on incrémente le compteur\n",
        "        if chaine[i] == chaine[i-1]:\n",
        "            compteur += 1\n",
        "        else:\n",
        "            # Sinon, on ajoute le caractère et le compteur au résultat, et on réinitialise le compteur\n",
        "            resultat += str(compteur) + chaine[i-1]\n",
        "            compteur = 1\n",
        "\n",
        "    # Ajouter la dernière séquence restante\n",
        "    resultat += str(compteur) + chaine[-1]\n",
        "\n",
        "    return resultat\n",
        "\n",
        "\n",
        "def rle_decompression_binaire(chaine_compressee):\n",
        "    # Initialiser une chaîne vide pour le résultat\n",
        "    resultat = \"\"\n",
        "    # Initialiser une variable pour stocker le nombre de répétitions\n",
        "    compteur = \"\"\n",
        "\n",
        "    # Parcourir la chaîne compressée caractère par caractère\n",
        "    for caractere in chaine_compressee:\n",
        "        # Si le caractère est un chiffre, on le concatène au compteur\n",
        "        if caractere.isdigit():\n",
        "            compteur += caractere\n",
        "        else:\n",
        "            # Si c'est une lettre, on multiplie la lettre par le compteur et on ajoute au résultat\n",
        "            resultat += caractere * int(compteur)\n",
        "            # Réinitialiser le compteur\n",
        "            compteur = \"\"\n",
        "\n",
        "    return resultat\n",
        "\n",
        "\n",
        "def traiter_chaine(action, chaine):\n",
        "    if action == \"compresser\":\n",
        "        return rle_compression_binaire(chaine)\n",
        "    elif action == \"decompresser\":\n",
        "        return rle_decompression_binaire(chaine)\n",
        "    else:\n",
        "        raise ValueError(\"Action non valide. Utilisez 'compresser' ou 'decompresser'.\")\n",
        "\n",
        "# Exemple d'utilisation\n",
        "if __name__ == \"__main__\":\n",
        "    # Appel avec l'action 'compresser'\n",
        "    chaine_a_compresser = \"AAABBCDDDD\"\n",
        "    resultat_compression = traiter_chaine(\"compresser\", chaine_a_compresser)\n",
        "    print(\"élément à compresser :\", chaine_a_compresser)\n",
        "    print(\"Résultat de la compression :\", resultat_compression)\n",
        "\n",
        "    # Appel avec l'action 'decompresser'\n",
        "    chaine_a_decompresser = \"1F1a1R1a1z\"\n",
        "    resultat_decompression = traiter_chaine(\"decompresser\", chaine_a_decompresser)\n",
        "    print(\"élément à décompresser :\", chaine_a_decompresser)\n",
        "    print(\"Résultat de la décompression :\", resultat_decompression)\n"
      ],
      "metadata": {
        "colab": {
          "base_uri": "https://localhost:8080/"
        },
        "id": "mSR_URS4oThl",
        "outputId": "eaad635b-e99d-4617-be38-22e110ed19f2"
      },
      "execution_count": 3,
      "outputs": [
        {
          "output_type": "stream",
          "name": "stdout",
          "text": [
            "élément à compresser : AAABBCDDDD\n",
            "Résultat de la compression : 3A2B1C4D\n",
            "élément à décompresser : 1F1a1R1a1z\n",
            "Résultat de la décompression : FaRaz\n"
          ]
        }
      ]
    },
    {
      "cell_type": "markdown",
      "metadata": {
        "id": "bNEgVlW71AeK"
      },
      "source": [
        "<h2> <b> Question 4 : </b> </h2>\n",
        "\n",
        "Implementer la fonction de gain.\n",
        "\n",
        "\n",
        "\n",
        "\n"
      ]
    },
    {
      "cell_type": "code",
      "source": [
        "# Fonction qui calcule le gain de compression\n",
        "def calcul_gain(chaine_originale, chaine_compressee):\n",
        "\n",
        "    taille_avant = len(chaine_originale)\n",
        "\n",
        "\n",
        "    taille_apres = len(chaine_compressee)\n",
        "\n",
        "\n",
        "    gain = taille_avant / taille_apres if taille_apres != 0 else float('inf')  # Evite division par zéro\n",
        "\n",
        "    return gain\n",
        "\n",
        "# Exemple d'utilisation\n",
        "if __name__ == \"__main__\":\n",
        "\n",
        "    chaine = \"AAABBCDDDD\"\n",
        "\n",
        "    # Compression\n",
        "    chaine_compressee = rle_compression_binaire(chaine)\n",
        "    print(\"Chaîne compressée :\", chaine_compressee)\n",
        "\n",
        "    # Calcul du gain de compression\n",
        "    gain = calcul_gain(chaine, chaine_compressee)\n",
        "    print(f\"Gain de compression : {gain:.2f}\")\n"
      ],
      "metadata": {
        "colab": {
          "base_uri": "https://localhost:8080/"
        },
        "id": "59yDzfnHNNEq",
        "outputId": "fb44b70e-a7e1-4175-a372-76d2de8fad50"
      },
      "execution_count": 4,
      "outputs": [
        {
          "output_type": "stream",
          "name": "stdout",
          "text": [
            "Chaîne compressée : 3A2B1C4D\n",
            "Gain de compression : 1.25\n"
          ]
        }
      ]
    },
    {
      "cell_type": "markdown",
      "metadata": {
        "id": "GBHwe6ei4izW"
      },
      "source": [
        "<center> <h1> Exercice 2 : Algorithme LZW </h1> </center>\n"
      ]
    },
    {
      "cell_type": "markdown",
      "metadata": {
        "id": "h0PQn1vxDqxB"
      },
      "source": [
        "<h2> <b> Question 1 : </b> </h2>\n",
        "\n",
        "Implémentez une fonction qui effectue la compression de chaînes de\n",
        "caractères en utilisant l'algorithme LZW sans traduire en binaire le\n",
        "résultats de la compression."
      ]
    },
    {
      "cell_type": "code",
      "source": [
        "def lzw_compression(chaine):\n",
        "    # Initialisation du dictionnaire avec les caractères uniques rencontrés dans la chaîne\n",
        "    dico = {}\n",
        "    prochain_code = 1  # Le prochain code disponible dans le dictionnaire\n",
        "    chaine_compression = []\n",
        "    p = \"\"  # Initialiser avec une chaîne vide\n",
        "\n",
        "    # Parcourir les caractères de la chaîne\n",
        "    for c in chaine:\n",
        "        # Si le caractère seul n'est pas encore dans le dictionnaire, on l'ajoute\n",
        "        if c not in dico:\n",
        "            dico[c] = prochain_code\n",
        "            prochain_code += 1\n",
        "\n",
        "        # Ensuite, on essaie d'ajouter ce caractère à la séquence existante (p)\n",
        "        if p + c in dico:\n",
        "            p = p + c  # Si p + c est déjà dans le dictionnaire, on continue à construire la séquence\n",
        "        else:\n",
        "            # Ajouter le code de p à la liste des résultats\n",
        "            if p:\n",
        "                chaine_compression.append(dico[p])\n",
        "\n",
        "            # Ajouter la nouvelle séquence p + c au dictionnaire\n",
        "            dico[p + c] = prochain_code\n",
        "            prochain_code += 1\n",
        "\n",
        "            # Réinitialiser p avec le caractère actuel\n",
        "            p = c\n",
        "\n",
        "    # Ajouter le dernier préfixe (p) dans la compression si nécessaire\n",
        "    if p in dico:\n",
        "        chaine_compression.append(dico[p])\n",
        "\n",
        "    return chaine_compression, dico  # Retourne la compression et le dictionnaire utilisé\n",
        "\n",
        "# Exemple d'utilisation\n",
        "if __name__ == \"__main__\":\n",
        "    chaine = \"ABABABA\"\n",
        "    compression_result, dico_utilise = lzw_compression(chaine)\n",
        "    print(\"Résultat de la compression LZW :\", compression_result)\n",
        "    print(\"Dictionnaire utilisé :\", dico_utilise)\n"
      ],
      "metadata": {
        "colab": {
          "base_uri": "https://localhost:8080/"
        },
        "id": "gwFf4nweOrwC",
        "outputId": "c1aefdfb-4dec-43bf-d793-8b78aa8f42b9"
      },
      "execution_count": 11,
      "outputs": [
        {
          "output_type": "stream",
          "name": "stdout",
          "text": [
            "Résultat de la compression LZW : [1, 2, 3, 5]\n",
            "Dictionnaire utilisé : {'A': 1, 'B': 2, 'AB': 3, 'BA': 4, 'ABA': 5}\n"
          ]
        }
      ]
    },
    {
      "cell_type": "markdown",
      "metadata": {
        "id": "48-GfztYDlQJ"
      },
      "source": [
        "<h2> <b> Question 2 : </b> </h2>\n",
        "\n",
        "Écrivez une méthode qui décompresse les données LZW."
      ]
    },
    {
      "cell_type": "code",
      "source": [
        "def lzw_compression(chaine):\n",
        "    # Initialiser le dictionnaire avec les caractères uniques dans la chaîne\n",
        "    dico = {}\n",
        "    prochain_code = 1  # Le prochain code disponible dans le dictionnaire\n",
        "    chaine_compression = []\n",
        "    p = \"\"  # Chaîne temporaire\n",
        "\n",
        "    # Parcourir les caractères de la chaîne\n",
        "    for c in chaine:\n",
        "        # Si p + c est dans le dictionnaire, on continue à construire la séquence\n",
        "        if p + c in dico:\n",
        "            p = p + c\n",
        "        else:\n",
        "            # Si p existe déjà dans le dictionnaire, ajouter son code à la compression\n",
        "            if p != \"\":\n",
        "                chaine_compression.append(dico[p])\n",
        "\n",
        "            # Ajouter la nouvelle séquence p + c au dictionnaire\n",
        "            dico[p + c] = prochain_code\n",
        "            prochain_code += 1\n",
        "\n",
        "            # Réinitialiser p avec le caractère actuel\n",
        "            p = c\n",
        "\n",
        "    # Ajouter le dernier préfixe dans la compression\n",
        "    if p in dico:\n",
        "        chaine_compression.append(dico[p])\n",
        "\n",
        "    return chaine_compression, dico\n",
        "\n",
        "# Exemple d'utilisation\n",
        "if __name__ == \"__main__\":\n",
        "    chaine = \"ABABABA\"\n",
        "    compression_result, dico_utilise = lzw_compression(chaine)\n",
        "    print(\"Résultat de la compression LZW :\", compression_result)\n",
        "    print(\"Dictionnaire utilisé :\", dico_utilise)\n"
      ],
      "metadata": {
        "colab": {
          "base_uri": "https://localhost:8080/",
          "height": 332
        },
        "id": "fIiKFJFQV6AG",
        "outputId": "eca9823d-f384-4d5d-d0bc-6b93e87e3f79"
      },
      "execution_count": 15,
      "outputs": [
        {
          "output_type": "error",
          "ename": "KeyError",
          "evalue": "'B'",
          "traceback": [
            "\u001b[0;31m---------------------------------------------------------------------------\u001b[0m",
            "\u001b[0;31mKeyError\u001b[0m                                  Traceback (most recent call last)",
            "\u001b[0;32m<ipython-input-15-75e21ad0d4a9>\u001b[0m in \u001b[0;36m<cell line: 32>\u001b[0;34m()\u001b[0m\n\u001b[1;32m     32\u001b[0m \u001b[0;32mif\u001b[0m \u001b[0m__name__\u001b[0m \u001b[0;34m==\u001b[0m \u001b[0;34m\"__main__\"\u001b[0m\u001b[0;34m:\u001b[0m\u001b[0;34m\u001b[0m\u001b[0;34m\u001b[0m\u001b[0m\n\u001b[1;32m     33\u001b[0m     \u001b[0mchaine\u001b[0m \u001b[0;34m=\u001b[0m \u001b[0;34m\"ABABABA\"\u001b[0m\u001b[0;34m\u001b[0m\u001b[0;34m\u001b[0m\u001b[0m\n\u001b[0;32m---> 34\u001b[0;31m     \u001b[0mcompression_result\u001b[0m\u001b[0;34m,\u001b[0m \u001b[0mdico_utilise\u001b[0m \u001b[0;34m=\u001b[0m \u001b[0mlzw_compression\u001b[0m\u001b[0;34m(\u001b[0m\u001b[0mchaine\u001b[0m\u001b[0;34m)\u001b[0m\u001b[0;34m\u001b[0m\u001b[0;34m\u001b[0m\u001b[0m\n\u001b[0m\u001b[1;32m     35\u001b[0m     \u001b[0mprint\u001b[0m\u001b[0;34m(\u001b[0m\u001b[0;34m\"Résultat de la compression LZW :\"\u001b[0m\u001b[0;34m,\u001b[0m \u001b[0mcompression_result\u001b[0m\u001b[0;34m)\u001b[0m\u001b[0;34m\u001b[0m\u001b[0;34m\u001b[0m\u001b[0m\n\u001b[1;32m     36\u001b[0m     \u001b[0mprint\u001b[0m\u001b[0;34m(\u001b[0m\u001b[0;34m\"Dictionnaire utilisé :\"\u001b[0m\u001b[0;34m,\u001b[0m \u001b[0mdico_utilise\u001b[0m\u001b[0;34m)\u001b[0m\u001b[0;34m\u001b[0m\u001b[0;34m\u001b[0m\u001b[0m\n",
            "\u001b[0;32m<ipython-input-15-75e21ad0d4a9>\u001b[0m in \u001b[0;36mlzw_compression\u001b[0;34m(chaine)\u001b[0m\n\u001b[1;32m     14\u001b[0m             \u001b[0;31m# Si p existe déjà dans le dictionnaire, ajouter son code à la compression\u001b[0m\u001b[0;34m\u001b[0m\u001b[0;34m\u001b[0m\u001b[0m\n\u001b[1;32m     15\u001b[0m             \u001b[0;32mif\u001b[0m \u001b[0mp\u001b[0m \u001b[0;34m!=\u001b[0m \u001b[0;34m\"\"\u001b[0m\u001b[0;34m:\u001b[0m\u001b[0;34m\u001b[0m\u001b[0;34m\u001b[0m\u001b[0m\n\u001b[0;32m---> 16\u001b[0;31m                 \u001b[0mchaine_compression\u001b[0m\u001b[0;34m.\u001b[0m\u001b[0mappend\u001b[0m\u001b[0;34m(\u001b[0m\u001b[0mdico\u001b[0m\u001b[0;34m[\u001b[0m\u001b[0mp\u001b[0m\u001b[0;34m]\u001b[0m\u001b[0;34m)\u001b[0m\u001b[0;34m\u001b[0m\u001b[0;34m\u001b[0m\u001b[0m\n\u001b[0m\u001b[1;32m     17\u001b[0m \u001b[0;34m\u001b[0m\u001b[0m\n\u001b[1;32m     18\u001b[0m             \u001b[0;31m# Ajouter la nouvelle séquence p + c au dictionnaire\u001b[0m\u001b[0;34m\u001b[0m\u001b[0;34m\u001b[0m\u001b[0m\n",
            "\u001b[0;31mKeyError\u001b[0m: 'B'"
          ]
        }
      ]
    },
    {
      "cell_type": "markdown",
      "metadata": {
        "id": "vVhO9Z2IOvHs"
      },
      "source": [
        "<h2> <b> Question 3 : </b> </h2>\n",
        "\n",
        "Développez une variante de l'algorithme qui permet la compression et la décompression de données jusqu'au format binaires en suivant les principes de l'algorithme LZW."
      ]
    },
    {
      "cell_type": "markdown",
      "metadata": {
        "id": "PaVDQt1FOvHt"
      },
      "source": [
        "<center> <h1> Exercice 3 : Compression d'une image en noir et blanc </h1> </center>\n"
      ]
    },
    {
      "cell_type": "markdown",
      "metadata": {
        "id": "GmzrtMt2dUHx"
      },
      "source": [
        "Modifiez l'un des trois algorithmes (RLE, LZW ou Huffman) pour\n",
        "qu'il fonctionne avec des images en noir et blanc."
      ]
    },
    {
      "cell_type": "markdown",
      "metadata": {
        "id": "P2Czo4xPOvHt"
      },
      "source": [
        "<center> <h1> Exercice 4 : Bonus (Pour les experts en Python)\n",
        "Algorithme de Huffman </h1> </center>\n"
      ]
    },
    {
      "cell_type": "markdown",
      "metadata": {
        "id": "r8knSTg-OvHu"
      },
      "source": [
        "Créez deux fonctions, l'une pour compresser et l'autre pour\n",
        "décompresser des données d'entrée en utilisant l'algorithme de\n",
        "Huffman. N'oubliez pas d'afficher l'arbre généré lors de la\n",
        "compression."
      ]
    }
  ],
  "metadata": {
    "colab": {
      "provenance": [],
      "include_colab_link": true
    },
    "kernelspec": {
      "display_name": "Python 3 (ipykernel)",
      "language": "python",
      "name": "python3"
    },
    "language_info": {
      "codemirror_mode": {
        "name": "ipython",
        "version": 3
      },
      "file_extension": ".py",
      "mimetype": "text/x-python",
      "name": "python",
      "nbconvert_exporter": "python",
      "pygments_lexer": "ipython3",
      "version": "3.10.14"
    }
  },
  "nbformat": 4,
  "nbformat_minor": 0
}